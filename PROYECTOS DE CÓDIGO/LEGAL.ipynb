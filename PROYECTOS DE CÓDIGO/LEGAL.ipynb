{
 "cells": [
  {
   "cell_type": "code",
   "execution_count": 5,
   "metadata": {},
   "outputs": [],
   "source": [
    "\"\"\"\n",
    "Consejo Académico\n",
    "Consejo de Sede Medellín\n",
    "Consejo Facultad de Minas - Sede Medellín\n",
    "Consejo Superior Universitario\n",
    "Rectoría\n",
    "Vicerrectoría Académica\n",
    "\"\"\"\n",
    "import requests\n",
    "from bs4 import BeautifulSoup\n",
    "#https://beautiful-soup-4.readthedocs.io/en/latest/\n",
    "#https://scrapepark.org/courses/spanish/"
   ]
  },
  {
   "cell_type": "code",
   "execution_count": 37,
   "metadata": {},
   "outputs": [
    {
     "data": {
      "text/plain": [
       "bs4.BeautifulSoup"
      ]
     },
     "execution_count": 37,
     "metadata": {},
     "output_type": "execute_result"
    }
   ],
   "source": [
    "#1. Obtener el HTML\n",
    "url  = \"http://www.legal.unal.edu.co/rlunal/home/avz.jsp\" # URL de la página a scrapear\n",
    "respuesta  = requests.get(url ) # Realizar la solicitud GET a la página\n",
    "#2. Pasear HTML\n",
    "soup = BeautifulSoup(respuesta.content, 'html.parser') # Crear el objeto BeautifulSoup"
   ]
  },
  {
   "cell_type": "code",
   "execution_count": 87,
   "metadata": {},
   "outputs": [
    {
     "ename": "AttributeError",
     "evalue": "ResultSet object has no attribute 'find'. You're probably treating a list of elements like a single element. Did you call find_all() when you meant to call find()?",
     "output_type": "error",
     "traceback": [
      "\u001b[1;31m---------------------------------------------------------------------------\u001b[0m",
      "\u001b[1;31mAttributeError\u001b[0m                            Traceback (most recent call last)",
      "Cell \u001b[1;32mIn[87], line 3\u001b[0m\n\u001b[0;32m      1\u001b[0m formulario \u001b[38;5;241m=\u001b[39m soup\u001b[38;5;241m.\u001b[39mfind(\u001b[38;5;124m'\u001b[39m\u001b[38;5;124mform\u001b[39m\u001b[38;5;124m'\u001b[39m, \u001b[38;5;28mid\u001b[39m\u001b[38;5;241m=\u001b[39m\u001b[38;5;124m'\u001b[39m\u001b[38;5;124mform-avz\u001b[39m\u001b[38;5;124m'\u001b[39m) \u001b[38;5;66;03m# Identificar el formulario\u001b[39;00m\n\u001b[0;32m      2\u001b[0m añoi \u001b[38;5;241m=\u001b[39m formulario\u001b[38;5;241m.\u001b[39mfind_all(\u001b[38;5;124m'\u001b[39m\u001b[38;5;124mselect\u001b[39m\u001b[38;5;124m'\u001b[39m, \u001b[38;5;28mid\u001b[39m\u001b[38;5;241m=\u001b[39m\u001b[38;5;124m'\u001b[39m\u001b[38;5;124mano-inicial-documento\u001b[39m\u001b[38;5;124m'\u001b[39m)  \u001b[38;5;66;03m# Reemplaza con el nombre real del elemento o selector CSS\u001b[39;00m\n\u001b[1;32m----> 3\u001b[0m opcion_2024i \u001b[38;5;241m=\u001b[39m \u001b[43mañoi\u001b[49m\u001b[38;5;241;43m.\u001b[39;49m\u001b[43mfind\u001b[49m(\u001b[38;5;124m'\u001b[39m\u001b[38;5;124moption\u001b[39m\u001b[38;5;124m'\u001b[39m) \u001b[38;5;66;03m# Busca la opción del año 2024\u001b[39;00m\n\u001b[0;32m      4\u001b[0m \u001b[38;5;28mprint\u001b[39m(opcion_2024i)\n\u001b[0;32m      5\u001b[0m \u001b[38;5;66;03m#opcion_2024i.select() # Selecciona la opción\u001b[39;00m\n\u001b[0;32m      6\u001b[0m \n\u001b[0;32m      7\u001b[0m \u001b[38;5;66;03m#celda_aniof = formulario.find('select[name=\"ano-final-documento\"]')  # Reemplaza con el nombre real del elemento o selector CSS\u001b[39;00m\n\u001b[1;32m   (...)\u001b[0m\n\u001b[0;32m     12\u001b[0m \u001b[38;5;66;03m#opcion_entidad = celda_aniof.find('option[value=\"Consejo de Sede Medellín\"]') # Busca la opción del año 2024\u001b[39;00m\n\u001b[0;32m     13\u001b[0m \u001b[38;5;66;03m#opcion_entidad.select() # Selecciona la opción\u001b[39;00m\n",
      "File \u001b[1;32mc:\\Users\\EstudianteAuxiliar\\AppData\\Local\\Programs\\Python\\Python311\\Lib\\site-packages\\bs4\\element.py:2433\u001b[0m, in \u001b[0;36mResultSet.__getattr__\u001b[1;34m(self, key)\u001b[0m\n\u001b[0;32m   2431\u001b[0m \u001b[38;5;28;01mdef\u001b[39;00m \u001b[38;5;21m__getattr__\u001b[39m(\u001b[38;5;28mself\u001b[39m, key):\n\u001b[0;32m   2432\u001b[0m \u001b[38;5;250m    \u001b[39m\u001b[38;5;124;03m\"\"\"Raise a helpful exception to explain a common code fix.\"\"\"\u001b[39;00m\n\u001b[1;32m-> 2433\u001b[0m     \u001b[38;5;28;01mraise\u001b[39;00m \u001b[38;5;167;01mAttributeError\u001b[39;00m(\n\u001b[0;32m   2434\u001b[0m         \u001b[38;5;124m\"\u001b[39m\u001b[38;5;124mResultSet object has no attribute \u001b[39m\u001b[38;5;124m'\u001b[39m\u001b[38;5;132;01m%s\u001b[39;00m\u001b[38;5;124m'\u001b[39m\u001b[38;5;124m. You\u001b[39m\u001b[38;5;124m'\u001b[39m\u001b[38;5;124mre probably treating a list of elements like a single element. Did you call find_all() when you meant to call find()?\u001b[39m\u001b[38;5;124m\"\u001b[39m \u001b[38;5;241m%\u001b[39m key\n\u001b[0;32m   2435\u001b[0m     )\n",
      "\u001b[1;31mAttributeError\u001b[0m: ResultSet object has no attribute 'find'. You're probably treating a list of elements like a single element. Did you call find_all() when you meant to call find()?"
     ]
    }
   ],
   "source": [
    "formulario = soup.find('form', id='form-avz') # Identificar el formulario\n",
    "añoi = formulario.find_all('select', id='ano-inicial-documento')  # Reemplaza con el nombre real del elemento o selector CSS\n",
    "opcion_2024i = añoi.find('option') # Busca la opción del año 2024\n",
    "print(opcion_2024i)\n",
    "#opcion_2024i.select() # Selecciona la opción\n",
    "\n",
    "#celda_aniof = formulario.find('select[name=\"ano-final-documento\"]')  # Reemplaza con el nombre real del elemento o selector CSS\n",
    "#opcion_2024f = celda_aniof.find('option[value=\"2024\"]') # Busca la opción del año 2024\n",
    "#opcion_2024f.select() # Selecciona la opción\n",
    "\n",
    "#celda_entidad = formulario.find('select[name=\"entidad-documento\"]')  # Reemplaza con el nombre real del elemento o selector CSS\n",
    "#opcion_entidad = celda_aniof.find('option[value=\"Consejo de Sede Medellín\"]') # Busca la opción del año 2024\n",
    "#opcion_entidad.select() # Selecciona la opción"
   ]
  },
  {
   "cell_type": "code",
   "execution_count": null,
   "metadata": {},
   "outputs": [],
   "source": []
  },
  {
   "cell_type": "code",
   "execution_count": 33,
   "metadata": {},
   "outputs": [
    {
     "ename": "AttributeError",
     "evalue": "'NoneType' object has no attribute 'find_all'",
     "output_type": "error",
     "traceback": [
      "\u001b[1;31m---------------------------------------------------------------------------\u001b[0m",
      "\u001b[1;31mAttributeError\u001b[0m                            Traceback (most recent call last)",
      "Cell \u001b[1;32mIn[33], line 2\u001b[0m\n\u001b[0;32m      1\u001b[0m \u001b[38;5;66;03m# Obtener los campos de texto\u001b[39;00m\n\u001b[1;32m----> 2\u001b[0m campos_texto \u001b[38;5;241m=\u001b[39m \u001b[43mform\u001b[49m\u001b[38;5;241;43m.\u001b[39;49m\u001b[43mfind_all\u001b[49m(\u001b[38;5;124m'\u001b[39m\u001b[38;5;124minput\u001b[39m\u001b[38;5;124m'\u001b[39m, \u001b[38;5;28mtype\u001b[39m\u001b[38;5;241m=\u001b[39m\u001b[38;5;124m'\u001b[39m\u001b[38;5;124mtext\u001b[39m\u001b[38;5;124m'\u001b[39m)\n",
      "\u001b[1;31mAttributeError\u001b[0m: 'NoneType' object has no attribute 'find_all'"
     ]
    }
   ],
   "source": [
    "boton_enviar = formulario.find('input[type=\"submit\"]')\n",
    "url_accion = boton_enviar['action']"
   ]
  }
 ],
 "metadata": {
  "kernelspec": {
   "display_name": "Python 3",
   "language": "python",
   "name": "python3"
  },
  "language_info": {
   "codemirror_mode": {
    "name": "ipython",
    "version": 3
   },
   "file_extension": ".py",
   "mimetype": "text/x-python",
   "name": "python",
   "nbconvert_exporter": "python",
   "pygments_lexer": "ipython3",
   "version": "3.11.4"
  }
 },
 "nbformat": 4,
 "nbformat_minor": 2
}
